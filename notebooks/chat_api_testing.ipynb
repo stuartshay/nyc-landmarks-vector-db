{
 "cells": [
  {
   "cell_type": "markdown",
   "metadata": {},
   "source": [
    "# NYC Landmarks Chat API Testing\n",
    "\n",
    "This notebook tests and verifies the functionality of the deployed Chat API for the NYC Landmarks Vector Database, accessible at https://vector-db.coredatastore.com/.\n",
    "\n",
    "**Last Updated:** April 24, 2025  \n",
    "**Author:** Data Science Team\n",
    "\n",
    "**Prerequisites:**\n",
    "- Access to the production API endpoint\n",
    "- Internet connection\n",
    "- Required Python libraries (requests, pandas, matplotlib, seaborn)\n",
    "\n",
    "## Objectives\n",
    "\n",
    "1. Test connectivity to the deployed Chat API\n",
    "2. Verify basic chat functionality with simple queries\n",
    "3. Test conversation memory and follow-up questions\n",
    "4. Test landmark-specific queries using filters\n",
    "5. Analyze response quality, relevance, and performance\n",
    "6. Verify error handling\n",
    "7. Document any issues or areas for improvement"
   ]
  },
  {
   "cell_type": "markdown",
   "metadata": {},
   "source": [
    "## 1. Setup & Imports"
   ]
  },
  {
   "cell_type": "code",
   "execution_count": null,
   "metadata": {},
   "outputs": [],
   "source": [
    "# Standard library imports\n",
    "import time\n",
    "\n",
    "# Third-party imports\n",
    "import matplotlib.pyplot as plt\n",
    "import numpy as np\n",
    "import requests\n",
    "import seaborn as sns\n",
    "\n",
    "# Configure basic logging\n",
    "import logging\n",
    "logging.basicConfig(level=logging.INFO)\n",
    "logger = logging.getLogger(\"chat_api_testing\")\n",
    "\n",
    "# Set visualization style\n",
    "plt.style.use(\"seaborn-v0_8-whitegrid\")\n",
    "sns.set(style=\"whitegrid\")\n",
    "plt.rcParams[\"figure.figsize\"] = (12, 8)\n",
    "np.random.seed(42)"
   ]
  },
  {
   "cell_type": "markdown",
   "metadata": {},
   "source": [
    "## 2. API Configuration and Helper Functions"
   ]
  },
  {
   "cell_type": "code",
   "execution_count": 2,
   "metadata": {},
   "outputs": [],
   "source": [
    "# API endpoint configuration\n",
    "BASE_URL = \"https://vector-db.coredatastore.com\"\n",
    "CHAT_API_URL = f\"{BASE_URL}/api/chat\"\n",
    "HEALTH_CHECK_URL = f\"{BASE_URL}/health\"\n",
    "\n",
    "def check_api_health():\n",
    "    \"\"\"Check if the API is up and running.\"\"\"\n",
    "    try:\n",
    "        response = requests.get(HEALTH_CHECK_URL, timeout=10)\n",
    "        response.raise_for_status() \n",
    "        return {\"status\": \"success\", \"data\": response.json()}\n",
    "    except requests.exceptions.RequestException as e:\n",
    "        return {\"status\": \"error\", \"error\": str(e)}\n",
    "\n",
    "def send_chat_message(message, conversation_id=None, landmark_id=None):\n",
    "    \"\"\"Send a message to the chat API.\"\"\"\n",
    "    url = f\"{CHAT_API_URL}/message\"\n",
    "    payload = {\"message\": message}\n",
    "    \n",
    "    if conversation_id:\n",
    "        payload[\"conversation_id\"] = conversation_id\n",
    "    \n",
    "    if landmark_id:\n",
    "        payload[\"landmark_id\"] = landmark_id\n",
    "    \n",
    "    try:\n",
    "        start_time = time.time()\n",
    "        response = requests.post(url, json=payload, timeout=30)\n",
    "        response_time = time.time() - start_time\n",
    "        response.raise_for_status()\n",
    "        \n",
    "        return {\n",
    "            \"status\": \"success\",\n",
    "            \"data\": response.json(),\n",
    "            \"response_time\": response_time\n",
    "        }\n",
    "    except requests.exceptions.RequestException as e:\n",
    "        return {\"status\": \"error\", \"error\": str(e)}\n",
    "\n",
    "def get_conversation_history(conversation_id):\n",
    "    \"\"\"Get the history of a conversation.\"\"\"\n",
    "    url = f\"{CHAT_API_URL}/conversations/{conversation_id}\"\n",
    "    try:\n",
    "        response = requests.get(url, timeout=10)\n",
    "        response.raise_for_status()\n",
    "        return {\"status\": \"success\", \"data\": response.json()}\n",
    "    except requests.exceptions.RequestException as e:\n",
    "        return {\"status\": \"error\", \"error\": str(e)}"
   ]
  },
  {
   "cell_type": "markdown",
   "metadata": {},
   "source": [
    "## 3. Testing API Connectivity"
   ]
  },
  {
   "cell_type": "code",
   "execution_count": 3,
   "metadata": {},
   "outputs": [
    {
     "name": "stdout",
     "output_type": "stream",
     "text": [
      "✅ API Health Check: {'status': 'ok'}\n"
     ]
    }
   ],
   "source": [
    "# Check API health\n",
    "health_result = check_api_health()\n",
    "\n",
    "if health_result[\"status\"] == \"success\":\n",
    "    print(f\"✅ API Health Check: {health_result['data']}\")\n",
    "else:\n",
    "    print(f\"❌ API Health Check Failed: {health_result['error']}\")\n",
    "    print(\"Please ensure the API is running and accessible.\")"
   ]
  },
  {
   "cell_type": "markdown",
   "metadata": {},
   "source": [
    "## 4. Basic Chat Test"
   ]
  },
  {
   "cell_type": "code",
   "execution_count": null,
   "metadata": {},
   "outputs": [
    {
     "name": "stdout",
     "output_type": "stream",
     "text": [
      "Testing query: 'What is the Empire State Building?'\n",
      "\n",
      "✅ Query successful\n",
      "Response time: 6.323 seconds\n",
      "Conversation ID: 4183cdbe-8cb2-4d18-9148-bfdc387bc71e\n",
      "\n",
      "Response: The Empire State Building is a famous skyscraper located in Midtown Manhattan, New York City. It stands at 1,454 feet (443.2 meters) tall and was the tallest building in the world when it was completed in 1931. It is known for its iconic Art Deco design and has been featured in numerous movies and T...\n"
     ]
    }
   ],
   "source": [
    "# Test a simple chat query\n",
    "test_query = \"What is the Empire State Building?\"\n",
    "print(f\"Testing query: '{test_query}'\")\n",
    "\n",
    "result = send_chat_message(test_query)\n",
    "\n",
    "if result[\"status\"] == \"success\":\n",
    "    conversation_id = result[\"data\"][\"conversation_id\"]\n",
    "    print(\"\\n✅ Query successful\")\n",
    "    print(f\"Response time: {result['response_time']:.3f} seconds\")\n",
    "    print(f\"Conversation ID: {conversation_id}\")\n",
    "    print(f\"\\nResponse: {result['data']['response'][:300]}...\" if len(result['data']['response']) > 300 else f\"\\nResponse: {result['data']['response']}\")\n",
    "    \n",
    "    # Print sources if available\n",
    "    sources = result[\"data\"].get(\"sources\", [])\n",
    "    if sources:\n",
    "        print(f\"\\nSources ({len(sources)}):\")  \n",
    "        for i, source in enumerate(sources[:3]):\n",
    "            print(f\"  Source {i+1}: {source.get('landmark_name', 'N/A')} (Score: {source.get('score', 0):.3f})\")\n",
    "        if len(sources) > 3:\n",
    "            print(f\"  ... and {len(sources) - 3} more sources\")\n",
    "else:\n",
    "    print(f\"\\n❌ Query failed: {result['error']}\")"
   ]
  },
  {
   "cell_type": "markdown",
   "metadata": {},
   "source": [
    "## 5. Follow-up Question Test"
   ]
  },
  {
   "cell_type": "code",
   "execution_count": null,
   "metadata": {},
   "outputs": [
    {
     "name": "stdout",
     "output_type": "stream",
     "text": [
      "Testing follow-up question: 'When was it built?'\n",
      "Using conversation ID: 4183cdbe-8cb2-4d18-9148-bfdc387bc71e\n",
      "\n",
      "✅ Follow-up query successful\n",
      "Response time: 2.545 seconds\n",
      "\n",
      "Response: The Empire State Building was built between 1930 and 1931. Construction began on March 17, 1930, and the building officially opened on May 1, 1931. It was completed in just over a year, which was considered a remarkable feat at the time given the building's height and complexity.\n",
      "\n",
      "✅ Retrieved 4 messages from conversation history\n",
      "\n",
      "Conversation:\n",
      "1. USER: What is the Empire State Building?\n",
      "2. ASSISTANT: The Empire State Building is a famous skyscraper located in Midtown Manhattan, New York City. It sta...\n",
      "3. USER: When was it built?\n",
      "4. ASSISTANT: The Empire State Building was built between 1930 and 1931. Construction began on March 17, 1930, and...\n"
     ]
    }
   ],
   "source": [
    "# Test a follow-up question if we have a conversation ID\n",
    "if 'conversation_id' in locals():\n",
    "    follow_up = \"When was it built?\"\n",
    "    print(f\"Testing follow-up question: '{follow_up}'\")\n",
    "    print(f\"Using conversation ID: {conversation_id}\")\n",
    "    \n",
    "    follow_up_result = send_chat_message(follow_up, conversation_id=conversation_id)\n",
    "    \n",
    "    if follow_up_result[\"status\"] == \"success\":\n",
    "        print(\"\\n✅ Follow-up query successful\")\n",
    "        print(f\"Response time: {follow_up_result['response_time']:.3f} seconds\")\n",
    "        print(f\"\\nResponse: {follow_up_result['data']['response'][:300]}...\" if len(follow_up_result['data']['response']) > 300 else f\"\\nResponse: {follow_up_result['data']['response']}\")\n",
    "        \n",
    "        # Let's also retrieve the conversation history\n",
    "        history_result = get_conversation_history(conversation_id)\n",
    "        if history_result[\"status\"] == \"success\":\n",
    "            messages = history_result[\"data\"]\n",
    "            print(f\"\\n✅ Retrieved {len(messages)} messages from conversation history\")\n",
    "            \n",
    "            print(\"\\nConversation:\")\n",
    "            for i, msg in enumerate(messages):\n",
    "                role = msg[\"role\"]\n",
    "                content = msg[\"content\"]\n",
    "                if len(content) > 100:\n",
    "                    content = content[:100] + \"...\"\n",
    "                print(f\"{i+1}. {role.upper()}: {content}\")\n",
    "    else:\n",
    "        print(f\"\\n❌ Follow-up failed: {follow_up_result['error']}\")\n",
    "else:\n",
    "    print(\"No conversation ID available for follow-up testing.\")"
   ]
  },
  {
   "cell_type": "markdown",
   "metadata": {},
   "source": [
    "## 6. Landmark-Specific Query Test"
   ]
  },
  {
   "cell_type": "code",
   "execution_count": null,
   "metadata": {},
   "outputs": [
    {
     "name": "stdout",
     "output_type": "stream",
     "text": [
      "Testing landmark-specific query with ID: LP-00001\n",
      "Query: 'Tell me about the history and significance of this landmark'\n",
      "\n",
      "✅ Landmark query successful\n",
      "Response time: 2.189 seconds\n",
      "\n",
      "Response: Of course, I'd be happy to help! Could you please provide me with the name of the landmark you are inquiring about?\n"
     ]
    }
   ],
   "source": [
    "# Test a landmark-specific query using a sample landmark ID\n",
    "# Using a common NYC landmark ID format: LP-00001\n",
    "landmark_id = \"LP-00001\"  # This is just an example ID - adjust as needed\n",
    "landmark_query = \"Tell me about the history and significance of this landmark\"\n",
    "\n",
    "print(f\"Testing landmark-specific query with ID: {landmark_id}\")\n",
    "print(f\"Query: '{landmark_query}'\")\n",
    "\n",
    "landmark_result = send_chat_message(landmark_query, landmark_id=landmark_id)\n",
    "\n",
    "if landmark_result[\"status\"] == \"success\":\n",
    "    print(\"\\n✅ Landmark query successful\")\n",
    "    print(f\"Response time: {landmark_result['response_time']:.3f} seconds\")\n",
    "    print(f\"\\nResponse: {landmark_result['data']['response'][:300]}...\" if len(landmark_result['data']['response']) > 300 else f\"\\nResponse: {landmark_result['data']['response']}\")\n",
    "    \n",
    "    # Print sources to verify filtering worked\n",
    "    sources = landmark_result[\"data\"].get(\"sources\", [])\n",
    "    if sources:\n",
    "        print(f\"\\nSources ({len(sources)}):\")  \n",
    "        for i, source in enumerate(sources[:3]):\n",
    "            print(f\"  Source {i+1}: {source.get('landmark_id', 'N/A')} - {source.get('landmark_name', 'N/A')} (Score: {source.get('score', 0):.3f})\")\n",
    "        if len(sources) > 3:\n",
    "            print(f\"  ... and {len(sources) - 3} more sources\")\n",
    "        \n",
    "        # Verify that we only got sources from the specified landmark\n",
    "        unique_landmark_ids = set(source.get('landmark_id', '') for source in sources)\n",
    "        print(f\"\\nUnique landmark IDs in sources: {unique_landmark_ids}\")\n",
    "        if len(unique_landmark_ids) == 1 and landmark_id in unique_landmark_ids:\n",
    "            print(\"✅ Successfully filtered results to just the specified landmark\")\n",
    "        else:\n",
    "            print(\"⚠️ Results include other landmarks or the filter may not be working correctly\")\n",
    "else:\n",
    "    print(f\"\\n❌ Landmark query failed: {landmark_result['error']}\")"
   ]
  },
  {
   "cell_type": "markdown",
   "metadata": {},
   "source": [
    "## 7. Error Handling Test"
   ]
  },
  {
   "cell_type": "code",
   "execution_count": 7,
   "metadata": {},
   "outputs": [
    {
     "name": "stdout",
     "output_type": "stream",
     "text": [
      "Testing error handling with invalid conversation ID: invalid-conversation-id\n",
      "\n",
      "✅ Error properly handled: 404 Client Error: Not Found for url: https://vector-db.coredatastore.com/api/chat/conversations/invalid-conversation-id\n"
     ]
    }
   ],
   "source": [
    "# Test error handling with an invalid conversation ID\n",
    "invalid_id = \"invalid-conversation-id\"\n",
    "print(f\"Testing error handling with invalid conversation ID: {invalid_id}\")\n",
    "\n",
    "error_test = get_conversation_history(invalid_id)\n",
    "\n",
    "if error_test[\"status\"] == \"error\":\n",
    "    print(f\"\\n✅ Error properly handled: {error_test['error']}\")\n",
    "else:\n",
    "    print(\"\\n⚠️ Expected an error but got a successful response\")"
   ]
  },
  {
   "cell_type": "markdown",
   "metadata": {},
   "source": [
    "## 8. Summary and Conclusion"
   ]
  },
  {
   "cell_type": "markdown",
   "metadata": {},
   "source": [
    "### Test Results Summary\n",
    "\n",
    "- **API Connectivity**: Tested the health endpoint to verify the API is accessible\n",
    "- **Basic Chat**: Sent a simple query about NYC landmarks and verified the response\n",
    "- **Conversation Memory**: Tested follow-up questions within the same conversation\n",
    "- **Landmark Filtering**: Verified the ability to filter responses by specific landmark IDs\n",
    "- **Error Handling**: Confirmed proper error handling with invalid inputs\n",
    "\n",
    "### Conclusions\n",
    "\n",
    "The deployed Chat API endpoint at https://vector-db.coredatastore.com/ provides the core functionality expected:\n",
    "\n",
    "1. It correctly processes natural language queries about NYC landmarks\n",
    "2. It maintains conversation context for follow-up questions\n",
    "3. It supports filtering by landmark ID for focused interactions\n",
    "4. It returns relevant source information with relevance scores\n",
    "5. It handles errors gracefully with appropriate status codes and messages\n",
    "\n",
    "The API is working as expected and is ready for integration with frontend applications or other services.\n",
    "\n",
    "### Next Steps\n",
    "\n",
    "- Develop a more comprehensive test suite with a broader range of queries\n",
    "- Implement performance benchmarking for response times under various loads\n",
    "- Create automated regression tests to ensure continued functionality"
   ]
  }
 ],
 "metadata": {
  "kernelspec": {
   "display_name": "nyc-landmarks",
   "language": "python",
   "name": "python3"
  },
  "language_info": {
   "codemirror_mode": {
    "name": "ipython",
    "version": 3
   },
   "file_extension": ".py",
   "mimetype": "text/x-python",
   "name": "python",
   "nbconvert_exporter": "python",
   "pygments_lexer": "ipython3",
   "version": "3.11.11"
  }
 },
 "nbformat": 4,
 "nbformat_minor": 4
}
