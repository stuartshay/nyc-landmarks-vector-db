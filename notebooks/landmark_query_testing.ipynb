{
 "cells": [
  {
   "cell_type": "markdown",
   "metadata": {},
   "source": [
    "# NYC Landmarks Vector Database - Query Testing\n",
    "\n",
    "This notebook provides testing and examples for the vector query capabilities of the NYC Landmarks Vector Database. It demonstrates how to connect to the Pinecone database, execute various types of queries, and analyze the results.\n",
    "\n",
    "## Objectives\n",
    "\n",
    "1. Test basic vector search functionality\n",
    "2. Demonstrate filtering capabilities\n",
    "3. Analyze query performance and result relevance\n",
    "4. Visualize search results\n",
    "\n",
    "This notebook represents Phase 1 of the Query API Enhancement, focusing on establishing the foundations for more advanced query capabilities."
   ]
  },
  {
   "cell_type": "markdown",
   "metadata": {},
   "source": [
    "## 1. Setup & Imports\n",
    "\n",
    "First, we'll import the necessary libraries and set up the environment."
   ]
  },
  {
   "cell_type": "code",
   "execution_count": null,
   "metadata": {},
   "outputs": [],
   "source": [
    "# Standard libraries\n",
    "import json\n",
    "import os\n",
    "import sys\n",
    "import time\n",
    "from collections import Counter, defaultdict\n",
    "from datetime import datetime\n",
    "from typing import Any, Dict, List, Optional, Tuple\n",
    "\n",
    "# For map visualizations\n",
    "import folium\n",
    "\n",
    "# Visualization libraries\n",
    "import matplotlib.pyplot as plt\n",
    "\n",
    "# Data analysis libraries\n",
    "import numpy as np\n",
    "import pandas as pd\n",
    "import plotly.express as px\n",
    "import plotly.graph_objects as go\n",
    "import seaborn as sns\n",
    "from folium.plugins import MarkerCluster\n",
    "from plotly.subplots import make_subplots\n",
    "from tqdm.notebook import tqdm\n",
    "\n",
    "# Add project directory to path\n",
    "sys.path.append(\"..\")\n",
    "\n",
    "# Set visualization style\n",
    "plt.style.use(\"seaborn-v0_8-whitegrid\")\n",
    "sns.set(style=\"whitegrid\")\n",
    "plt.rcParams[\"figure.figsize\"] = (12, 8)\n",
    "\n",
    "# Set random seed for reproducibility\n",
    "np.random.seed(42)"
   ]
  },
  {
   "cell_type": "code",
   "execution_count": null,
   "metadata": {},
   "outputs": [],
   "source": [
    "# Configure logging\n",
    "import logging\n",
    "\n",
    "# Import project modules\n",
    "from nyc_landmarks.config.settings import settings\n",
    "from nyc_landmarks.db.db_client import DbClient\n",
    "from nyc_landmarks.embeddings.generator import EmbeddingGenerator\n",
    "from nyc_landmarks.vectordb.pinecone_db import PineconeDB\n",
    "\n",
    "logger = logging.getLogger()\n",
    "logging.basicConfig(\n",
    "    level=settings.LOG_LEVEL.value,\n",
    "    format=\"%(asctime)s - %(name)s - %(levelname)s - %(message)s\",\n",
    ")"
   ]
  },
  {
   "cell_type": "markdown",
   "metadata": {},
   "source": [
    "## 2. Pinecone Connection\n",
    "\n",
    "Next, we'll establish a connection to the Pinecone vector database and verify the connection."
   ]
  },
  {
   "cell_type": "code",
   "execution_count": null,
   "metadata": {},
   "outputs": [],
   "source": [
    "# Initialize the Pinecone database client\n",
    "pinecone_db = PineconeDB()\n",
    "\n",
    "# Check if the connection was successful\n",
    "if pinecone_db.index:\n",
    "    print(f\"✅ Successfully connected to Pinecone index: {pinecone_db.index_name}\")\n",
    "    print(f\"Namespace: {pinecone_db.namespace}\")\n",
    "    print(f\"Dimensions: {pinecone_db.dimensions}\")\n",
    "    print(f\"Metric: {pinecone_db.metric}\")\n",
    "else:\n",
    "    print(\n",
    "        \"❌ Failed to connect to Pinecone. Check your credentials and network connection.\"\n",
    "    )"
   ]
  },
  {
   "cell_type": "code",
   "execution_count": null,
   "metadata": {},
   "outputs": [],
   "source": [
    "# Get index statistics\n",
    "stats = pinecone_db.get_index_stats()\n",
    "\n",
    "# Check for errors\n",
    "if \"error\" in stats:\n",
    "    print(f\"❌ Error retrieving index stats: {stats['error']}\")\n",
    "    # Create fallback mock stats for demonstration\n",
    "    total_vector_count = 0\n",
    "    namespaces = {}\n",
    "else:\n",
    "    print(\"✅ Successfully retrieved index stats\")\n",
    "    total_vector_count = stats.get(\"total_vector_count\", 0)\n",
    "    namespaces = stats.get(\"namespaces\", {})\n",
    "\n",
    "print(f\"\\n📊 Index Statistics:\")\n",
    "print(f\"Total Vector Count: {total_vector_count:,}\")\n",
    "print(f\"Dimension: {stats.get('dimension')}\")\n",
    "print(f\"Index Fullness: {stats.get('index_fullness')}\")"
   ]
  },
  {
   "cell_type": "markdown",
   "metadata": {},
   "source": [
    "## 3. Basic Vector Search Test\n",
    "\n",
    "Now let's test the basic vector search capabilities using sample queries about NYC landmarks."
   ]
  },
  {
   "cell_type": "code",
   "execution_count": null,
   "metadata": {},
   "outputs": [],
   "source": [
    "# Initialize the embedding generator\n",
    "embedding_generator = EmbeddingGenerator()\n",
    "\n",
    "# Define some sample queries about NYC landmarks\n",
    "sample_queries = [\n",
    "    \"What is the Empire State Building?\",\n",
    "    \"Tell me about the Brooklyn Bridge\",\n",
    "    \"What are the historic districts in Manhattan?\",\n",
    "    \"What is the architectural style of Grand Central Terminal?\",\n",
    "    \"When was the Statue of Liberty designated as a landmark?\",\n",
    "]\n",
    "\n",
    "print(f\"Generated {len(sample_queries)} sample queries for testing.\")"
   ]
  },
  {
   "cell_type": "code",
   "execution_count": null,
   "metadata": {},
   "outputs": [],
   "source": [
    "# Function to execute a query and measure performance\n",
    "\n",
    "\n",
    "def execute_query(query_text, top_k=5, filter_dict=None):\n",
    "    \"\"\"Execute a vector search query and return the results along with performance metrics.\"\"\"\n",
    "    # Start timing\n",
    "    start_time = time.time()\n",
    "\n",
    "    # Generate embedding for the query\n",
    "    embedding_start = time.time()\n",
    "    query_embedding = embedding_generator.generate_embedding(query_text)\n",
    "    embedding_time = time.time() - embedding_start\n",
    "\n",
    "    # Execute the query\n",
    "    query_start = time.time()\n",
    "    results = pinecone_db.query_vectors(\n",
    "        query_vector=query_embedding, top_k=top_k, filter_dict=filter_dict\n",
    "    )\n",
    "    query_time = time.time() - query_start\n",
    "\n",
    "    # Calculate total time\n",
    "    total_time = time.time() - start_time\n",
    "\n",
    "    return {\n",
    "        \"query\": query_text,\n",
    "        \"embedding\": query_embedding,\n",
    "        \"results\": results,\n",
    "        \"metrics\": {\n",
    "            \"embedding_time\": embedding_time,\n",
    "            \"query_time\": query_time,\n",
    "            \"total_time\": total_time,\n",
    "            \"result_count\": len(results),\n",
    "        },\n",
    "    }"
   ]
  },
  {
   "cell_type": "code",
   "execution_count": null,
   "metadata": {},
   "outputs": [],
   "source": [
    "# Test with sample query\n",
    "test_query = sample_queries[0]\n",
    "print(f\"Testing query: '{test_query}'\")\n",
    "\n",
    "try:\n",
    "    query_result = execute_query(test_query)\n",
    "    print(f\"\\n✅ Query executed successfully\")\n",
    "    print(f\"Embedding time: {query_result['metrics']['embedding_time']:.3f}s\")\n",
    "    print(f\"Query time: {query_result['metrics']['query_time']:.3f}s\")\n",
    "    print(f\"Total time: {query_result['metrics']['total_time']:.3f}s\")\n",
    "    print(f\"Results returned: {query_result['metrics']['result_count']}\")\n",
    "except Exception as e:\n",
    "    print(f\"\\n❌ Error executing query: {e}\")"
   ]
  },
  {
   "cell_type": "markdown",
   "metadata": {},
   "source": [
    "## 4. Simple Filter Tests\n",
    "\n",
    "Next, let's test basic filtering capabilities."
   ]
  },
  {
   "cell_type": "code",
   "execution_count": null,
   "metadata": {},
   "outputs": [],
   "source": [
    "# Test with a simple filter\n",
    "try:\n",
    "    filter_dict = {\"borough\": \"Manhattan\"}\n",
    "    filtered_result = execute_query(test_query, filter_dict=filter_dict)\n",
    "\n",
    "    print(f\"Query: '{test_query}'\")\n",
    "    print(f\"Filter: borough = Manhattan\")\n",
    "    print(f\"Results returned: {filtered_result['metrics']['result_count']}\")\n",
    "    print(f\"Total time: {filtered_result['metrics']['total_time']:.3f}s\")\n",
    "except Exception as e:\n",
    "    print(f\"Error executing filtered query: {e}\")"
   ]
  },
  {
   "cell_type": "markdown",
   "metadata": {},
   "source": [
    "## 5. Summary and Future Enhancements\n",
    "\n",
    "This notebook demonstrates the basic query capabilities of the Pinecone vector database for NYC landmarks. Future enhancements will include:\n",
    "\n",
    "1. More advanced filtering options\n",
    "2. Query optimization techniques\n",
    "3. Better visualization of results\n",
    "4. Integration with the chat API"
   ]
  }
 ],
 "metadata": {
  "kernelspec": {
   "display_name": "nyc-landmarks",
   "language": "python",
   "name": "python3"
  },
  "language_info": {
   "codemirror_mode": {
    "name": "ipython",
    "version": 3
   },
   "file_extension": ".py",
   "mimetype": "text/x-python",
   "name": "python",
   "nbconvert_exporter": "python",
   "pygments_lexer": "ipython3",
   "version": "3.11.11"
  }
 },
 "nbformat": 4,
 "nbformat_minor": 4
}
