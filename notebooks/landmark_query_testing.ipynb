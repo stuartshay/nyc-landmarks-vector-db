{
 "cells": [
  {
   "cell_type": "markdown",
   "metadata": {},
   "source": [
    "# NYC Landmarks Vector Database - Query Testing\n",
    "\n",
    "This notebook provides testing and examples for the vector query capabilities of the NYC Landmarks Vector Database. It demonstrates how to connect to the Pinecone database, execute various types of queries, and analyze the results.\n",
    "\n",
    "## Objectives\n",
    "\n",
    "1. Test basic vector search functionality\n",
    "2. Demonstrate filtering capabilities\n",
    "3. Analyze query performance and result relevance\n",
    "4. Visualize search results\n",
    "\n",
    "This notebook represents Phase 1 of the Query API Enhancement, focusing on establishing the foundations for more advanced query capabilities."
   ]
  },
  {
   "cell_type": "markdown",
   "metadata": {},
   "source": [
    "## 1. Setup & Imports\n",
    "\n",
    "First, we'll import the necessary libraries and set up the environment."
   ]
  },
  {
   "cell_type": "code",
   "execution_count": 61,
   "metadata": {},
   "outputs": [],
   "source": [
    "# Standard libraries\n",
    "import sys\n",
    "import time\n",
    "\n",
    "# Visualization libraries\n",
    "import matplotlib.pyplot as plt\n",
    "\n",
    "# Data analysis libraries\n",
    "import numpy as np\n",
    "import seaborn as sns\n",
    "\n",
    "# Add project directory to path\n",
    "sys.path.append(\"..\")\n",
    "\n",
    "# Set visualization style\n",
    "plt.style.use(\"seaborn-v0_8-whitegrid\")\n",
    "sns.set(style=\"whitegrid\")\n",
    "plt.rcParams[\"figure.figsize\"] = (12, 8)\n",
    "\n",
    "# Set random seed for reproducibility\n",
    "np.random.seed(42)"
   ]
  },
  {
   "cell_type": "code",
   "execution_count": null,
   "metadata": {},
   "outputs": [],
   "source": [
    "# Configure logging\n",
    "import logging\n",
    "\n",
    "# Import project modules\n",
    "from nyc_landmarks.config.settings import settings\n",
    "from nyc_landmarks.embeddings.generator import EmbeddingGenerator\n",
    "from nyc_landmarks.vectordb.pinecone_db import PineconeDB\n",
    "\n",
    "logger = logging.getLogger()\n",
    "logging.basicConfig(\n",
    "    level=settings.LOG_LEVEL.value,\n",
    "    format=\"%(asctime)s - %(name)s - %(levelname)s - %(message)s\",\n",
    ")"
   ]
  },
  {
   "cell_type": "markdown",
   "metadata": {},
   "source": [
    "## 2. Pinecone Connection\n",
    "\n",
    "Next, we'll establish a connection to the Pinecone vector database and verify the connection."
   ]
  },
  {
   "cell_type": "code",
   "execution_count": 52,
   "metadata": {},
   "outputs": [
    {
     "name": "stdout",
     "output_type": "stream",
     "text": [
      "2025-05-23 17:27:54,591 - nyc_landmarks.vectordb.pinecone_db - INFO - Initialized Pinecone client\n"
     ]
    },
    {
     "name": "stderr",
     "output_type": "stream",
     "text": [
      "INFO:nyc_landmarks.vectordb.pinecone_db:Initialized Pinecone client\n"
     ]
    },
    {
     "name": "stdout",
     "output_type": "stream",
     "text": [
      "2025-05-23 17:27:54,598 - nyc_landmarks.vectordb.pinecone_db - INFO - Connected to Pinecone index: nyc-landmarks\n"
     ]
    },
    {
     "name": "stderr",
     "output_type": "stream",
     "text": [
      "INFO:nyc_landmarks.vectordb.pinecone_db:Connected to Pinecone index: nyc-landmarks\n"
     ]
    },
    {
     "name": "stdout",
     "output_type": "stream",
     "text": [
      "✅ Successfully connected to Pinecone index: nyc-landmarks\n",
      "Namespace: landmarks\n",
      "Dimensions: 1536\n"
     ]
    }
   ],
   "source": [
    "# Initialize the Pinecone database client\n",
    "pinecone_db = PineconeDB()\n",
    "\n",
    "# Check if the connection was successful\n",
    "if pinecone_db.index:\n",
    "    print(f\"✅ Successfully connected to Pinecone index: {pinecone_db.index_name}\")\n",
    "    print(f\"Namespace: {pinecone_db.namespace}\")\n",
    "    print(f\"Dimensions: {pinecone_db.dimensions}\")\n",
    "else:\n",
    "    print(\n",
    "        \"❌ Failed to connect to Pinecone. Check your credentials and network connection.\"\n",
    "    )"
   ]
  },
  {
   "cell_type": "code",
   "execution_count": 53,
   "metadata": {},
   "outputs": [
    {
     "name": "stdout",
     "output_type": "stream",
     "text": [
      "✅ Successfully retrieved index stats\n",
      "\n",
      "📊 Index Statistics:\n",
      "Total Vector Count: 35,263\n",
      "Dimension: 1536\n",
      "Index Fullness: 0.0\n"
     ]
    }
   ],
   "source": [
    "# Get index statistics\n",
    "stats = pinecone_db.get_index_stats()\n",
    "\n",
    "# Check for errors\n",
    "if \"error\" in stats:\n",
    "    print(f\"❌ Error retrieving index stats: {stats['error']}\")\n",
    "    # Create fallback mock stats for demonstration\n",
    "    total_vector_count = 0\n",
    "    namespaces = {}\n",
    "else:\n",
    "    print(\"✅ Successfully retrieved index stats\")\n",
    "    total_vector_count = stats.get(\"total_vector_count\", 0)\n",
    "    namespaces = stats.get(\"namespaces\", {})\n",
    "\n",
    "print(\"\\n📊 Index Statistics:\")\n",
    "print(f\"Total Vector Count: {total_vector_count:,}\")\n",
    "print(f\"Dimension: {stats.get('dimension')}\")\n",
    "print(f\"Index Fullness: {stats.get('index_fullness')}\")"
   ]
  },
  {
   "cell_type": "markdown",
   "metadata": {},
   "source": [
    "## 3. Basic Vector Search Test\n",
    "\n",
    "Now let's test the basic vector search capabilities using sample queries about NYC landmarks."
   ]
  },
  {
   "cell_type": "code",
   "execution_count": 54,
   "metadata": {},
   "outputs": [
    {
     "name": "stderr",
     "output_type": "stream",
     "text": [
      "INFO:nyc_landmarks.embeddings.generator:Initialized OpenAI client with model: text-embedding-3-small\n"
     ]
    },
    {
     "name": "stdout",
     "output_type": "stream",
     "text": [
      "Generated 5 sample queries for testing.\n"
     ]
    }
   ],
   "source": [
    "# Initialize the embedding generator\n",
    "embedding_generator = EmbeddingGenerator()\n",
    "\n",
    "# Define some sample queries about NYC landmarks\n",
    "sample_queries = [\n",
    "    \"What is the Empire State Building?\",\n",
    "    \"Tell me about the Brooklyn Bridge\",\n",
    "    \"What are the historic districts in Manhattan?\",\n",
    "    \"What is the architectural style of Grand Central Terminal?\",\n",
    "    \"When was the Statue of Liberty designated as a landmark?\",\n",
    "]\n",
    "\n",
    "print(f\"Generated {len(sample_queries)} sample queries for testing.\")"
   ]
  },
  {
   "cell_type": "markdown",
   "metadata": {},
   "source": [
    "## Understanding Vector Search Implementation"
   ]
  },
  {
   "cell_type": "markdown",
   "metadata": {},
   "source": [
    "## PineconeDB Query Implementation\n",
    "\n",
    "Below is the implementation of `query_vectors` method from the `PineconeDB` class that we'll be using:"
   ]
  },
  {
   "cell_type": "code",
   "execution_count": null,
   "metadata": {},
   "outputs": [],
   "source": [
    "# Source: nyc_landmarks/vectordb/pinecone_db.py\n",
    "\n",
    "'''\n",
    "def query_vectors(\n",
    "    self,\n",
    "    query_vector: List[float],\n",
    "    top_k: int = 5,\n",
    "    filter_dict: Optional[Dict[str, Any]] = None,\n",
    ") -> List[Dict[str, Any]]:\n",
    "    \"\"\"\n",
    "    Query vectors from Pinecone index.\n",
    "\n",
    "    Args:\n",
    "        query_vector: Embedding of the query text\n",
    "        top_k: Number of results to return\n",
    "        filter_dict: Dictionary of metadata filters\n",
    "\n",
    "    Returns:\n",
    "        List of matching vectors with metadata\n",
    "    \"\"\"\n",
    "    try:\n",
    "        response = self.index.query(\n",
    "            vector=query_vector,\n",
    "            top_k=top_k,\n",
    "            include_metadata=True,\n",
    "            filter=filter_dict,\n",
    "        )\n",
    "\n",
    "        # Process the response to extract matches\n",
    "        result_list: List[Dict[str, Any]] = []\n",
    "\n",
    "        # Handle response.matches which can be a list or other iterable\n",
    "        # Cast response to Any to handle different return types from Pinecone SDK\n",
    "        from typing import Any as TypeAny\n",
    "        from typing import cast\n",
    "\n",
    "        response_dict = cast(TypeAny, response)\n",
    "\n",
    "        # Access matches safely\n",
    "        matches = getattr(response_dict, \"matches\", [])\n",
    "        for match in matches:\n",
    "            # Handle match objects\n",
    "            match_dict: Dict[str, Any] = {}\n",
    "\n",
    "            # Extract ID if available\n",
    "            if hasattr(match, \"id\"):\n",
    "                match_dict[\"id\"] = match.id\n",
    "\n",
    "            # Extract score if available\n",
    "            if hasattr(match, \"score\"):\n",
    "                match_dict[\"score\"] = match.score\n",
    "\n",
    "            # Extract metadata if available\n",
    "            if hasattr(match, \"metadata\"):\n",
    "                match_dict[\"metadata\"] = match.metadata\n",
    "\n",
    "            result_list.append(match_dict)\n",
    "\n",
    "        return result_list\n",
    "\n",
    "    except Exception as e:\n",
    "        logger.error(f\"Failed to query vectors: {e}\")\n",
    "        return []\n",
    "'''\n",
    "\n",
    "# Note: This code block is for reference only and won't be executed"
   ]
  },
  {
   "cell_type": "markdown",
   "metadata": {},
   "source": [
    "## Our Notebook's Query Function\n",
    "\n",
    "In this notebook, our `execute_query` function wraps around the `PineconeDB.query_vectors` method to provide additional functionality:\n",
    "\n",
    "1. **Timing and Performance Metrics**: We measure embedding generation time, query execution time, and total time\n",
    "2. **Automatic Embedding Generation**: Our function handles text-to-vector embedding using `EmbeddingGenerator`\n",
    "3. **Structured Results**: The response is packaged with both the results and performance metrics\n",
    "\n",
    "Our implementation is shown below:"
   ]
  },
  {
   "cell_type": "code",
   "execution_count": 67,
   "metadata": {},
   "outputs": [],
   "source": [
    "# Function to execute a query and measure performance\n",
    "\n",
    "\n",
    "def execute_query(query_text, top_k=5, filter_dict=None):\n",
    "    \"\"\"Execute a vector search query and return the results along with performance metrics.\"\"\"\n",
    "    # Start timing\n",
    "    start_time = time.time()\n",
    "\n",
    "    # Generate embedding for the query\n",
    "    embedding_start = time.time()\n",
    "    query_embedding = embedding_generator.generate_embedding(query_text)\n",
    "    embedding_time = time.time() - embedding_start\n",
    "\n",
    "    # Execute the query\n",
    "    query_start = time.time()\n",
    "    results = pinecone_db.query_vectors(\n",
    "        query_vector=query_embedding, top_k=top_k, filter_dict=filter_dict\n",
    "    )\n",
    "    query_time = time.time() - query_start\n",
    "\n",
    "    # Calculate total time\n",
    "    total_time = time.time() - start_time\n",
    "\n",
    "    return {\n",
    "        \"query\": query_text,\n",
    "        \"embedding\": query_embedding,\n",
    "        \"results\": results,\n",
    "        \"metrics\": {\n",
    "            \"embedding_time\": embedding_time,\n",
    "            \"query_time\": query_time,\n",
    "            \"total_time\": total_time,\n",
    "            \"result_count\": len(results),\n",
    "        },\n",
    "    }"
   ]
  },
  {
   "cell_type": "code",
   "execution_count": 68,
   "metadata": {},
   "outputs": [],
   "source": [
    "def display_query_results(query_result, max_results=None, show_metadata=True):\n",
    "    \"\"\"Display query results in a readable format.\n",
    "\n",
    "    Args:\n",
    "        query_result: The result dictionary returned by execute_query\n",
    "        max_results: Maximum number of results to display (default: all)\n",
    "        show_metadata: Whether to display metadata fields (default: True)\n",
    "    \"\"\"\n",
    "    results = query_result['results']\n",
    "    if max_results:\n",
    "        results = results[:max_results]\n",
    "\n",
    "    print(f\"Query: '{query_result['query']}'\\n\")\n",
    "    print(f\"🔍 Found {query_result['metrics']['result_count']} results (showing {len(results)})\")\n",
    "    print(f\"⏱️ Total query time: {query_result['metrics']['total_time']:.3f} seconds\")\n",
    "    print(\"-\" * 80)\n",
    "\n",
    "    for i, match in enumerate(results):\n",
    "        print(f\"\\n📌 Result #{i+1} - Score: {match['score']:.4f}\")\n",
    "        print(f\"ID: {match['id']}\")\n",
    "\n",
    "        if show_metadata and 'metadata' in match:\n",
    "            metadata = match['metadata']\n",
    "            print(\"\\nMetadata:\")\n",
    "\n",
    "            # Print important fields first\n",
    "            priority_fields = ['name', 'borough', 'landmark_type', 'designation_date', 'neighborhood']\n",
    "            for field in priority_fields:\n",
    "                if field in metadata and metadata[field]:\n",
    "                    print(f\"  {field.capitalize()}: {metadata[field]}\")\n",
    "\n",
    "            # Print content fields if available\n",
    "            content_fields = ['text_chunk', 'description', 'text']\n",
    "            for field in content_fields:\n",
    "                if field in metadata and metadata[field]:\n",
    "                    content = metadata[field]\n",
    "                    snippet = content[:250] + \"...\" if len(content) > 250 else content\n",
    "                    print(f\"\\n  Content ({field}): {snippet}\")\n",
    "                    break\n",
    "\n",
    "            # Print other metadata fields that weren't already shown\n",
    "            other_fields = [f for f in metadata if f not in priority_fields and f not in content_fields]\n",
    "            if other_fields:\n",
    "                print(\"\\n  Other metadata:\")\n",
    "                for field in other_fields:\n",
    "                    if metadata[field]:\n",
    "                        # Don't print very long values completely\n",
    "                        if isinstance(metadata[field], str) and len(metadata[field]) > 50:\n",
    "                            value = metadata[field][:50] + \"...\"\n",
    "                        else:\n",
    "                            value = metadata[field]\n",
    "                        print(f\"    {field}: {value}\")\n",
    "\n",
    "        print(\"-\" * 80)"
   ]
  },
  {
   "cell_type": "markdown",
   "metadata": {},
   "source": [
    "## Direct Query with PineconeDB\n",
    "\n",
    "You can also query Pinecone directly using the `PineconeDB.query_vectors` method. This requires you to first generate the embedding vector for your query text."
   ]
  },
  {
   "cell_type": "code",
   "execution_count": 69,
   "metadata": {},
   "outputs": [
    {
     "name": "stdout",
     "output_type": "stream",
     "text": [
      "Query: 'What is the Brooklyn Bridge?'\n"
     ]
    },
    {
     "name": "stderr",
     "output_type": "stream",
     "text": [
      "INFO:httpx:HTTP Request: POST https://api.openai.com/v1/embeddings \"HTTP/1.1 200 OK\"\n"
     ]
    },
    {
     "name": "stdout",
     "output_type": "stream",
     "text": [
      "\n",
      "Directly querying Pinecone with embedding vector...\n",
      "\n",
      "Found 3 results from direct query:\n",
      "\n",
      "Result #1:\n",
      "  ID: wiki-Brooklyn_Bridge-LP-00098-chunk-1\n",
      "  Score: 0.6865\n",
      "  Name: Brooklyn Bridge\n",
      "  Borough: NA\n",
      "\n",
      "Result #2:\n",
      "  ID: LP-00956-chunk-4\n",
      "  Score: 0.6789\n",
      "  Name: Fulton Ferry Historic District\n",
      "  Borough: Brooklyn\n",
      "\n",
      "Result #3:\n",
      "  ID: wiki-Brooklyn_Bridge-LP-00098-chunk-0\n",
      "  Score: 0.6698\n",
      "  Name: Brooklyn Bridge\n",
      "  Borough: NA\n",
      "\n"
     ]
    }
   ],
   "source": [
    "# Example of direct querying with PineconeDB\n",
    "\n",
    "# 1. First, generate embedding for query text\n",
    "query_text = \"What is the Brooklyn Bridge?\"\n",
    "print(f\"Query: '{query_text}'\")\n",
    "\n",
    "# Generate the embedding vector using our embedding generator\n",
    "embedding = embedding_generator.generate_embedding(query_text)\n",
    "\n",
    "# 2. Now directly query Pinecone using the embedding vector\n",
    "print(\"\\nDirectly querying Pinecone with embedding vector...\")\n",
    "results = pinecone_db.query_vectors(query_vector=embedding, top_k=3)\n",
    "\n",
    "# 3. Display the raw results\n",
    "print(f\"\\nFound {len(results)} results from direct query:\\n\")\n",
    "\n",
    "# Print raw results to show the direct output format\n",
    "for i, match in enumerate(results):\n",
    "    print(f\"Result #{i+1}:\")\n",
    "    print(f\"  ID: {match['id']}\")\n",
    "    print(f\"  Score: {match['score']:.4f}\")\n",
    "\n",
    "    # Print some key metadata if available\n",
    "    if 'metadata' in match and 'name' in match['metadata']:\n",
    "        print(f\"  Name: {match['metadata']['name']}\")\n",
    "    if 'metadata' in match and 'borough' in match['metadata']:\n",
    "        print(f\"  Borough: {match['metadata']['borough']}\")\n",
    "    print()"
   ]
  },
  {
   "cell_type": "markdown",
   "metadata": {},
   "source": [
    "### Comparing Direct Query vs. execute_query Function\n",
    "\n",
    "Let's compare the direct query approach with our `execute_query` function to see the differences in usage and output format:"
   ]
  },
  {
   "cell_type": "code",
   "execution_count": 70,
   "metadata": {},
   "outputs": [
    {
     "name": "stdout",
     "output_type": "stream",
     "text": [
      "Query: 'What are important landmarks in Manhattan?'\n",
      "\n",
      "----- Approach 1: Direct PineconeDB.query_vectors -----\n"
     ]
    },
    {
     "name": "stderr",
     "output_type": "stream",
     "text": [
      "INFO:httpx:HTTP Request: POST https://api.openai.com/v1/embeddings \"HTTP/1.1 200 OK\"\n"
     ]
    },
    {
     "name": "stdout",
     "output_type": "stream",
     "text": [
      "Embedding time: 7.484s\n",
      "Query time: 0.087s\n",
      "Total time: 7.573s\n",
      "Results returned: 3\n",
      "\n",
      "----- Approach 2: Using execute_query function -----\n"
     ]
    },
    {
     "name": "stderr",
     "output_type": "stream",
     "text": [
      "INFO:httpx:HTTP Request: POST https://api.openai.com/v1/embeddings \"HTTP/1.1 200 OK\"\n"
     ]
    },
    {
     "name": "stdout",
     "output_type": "stream",
     "text": [
      "Embedding time: 2.031s\n",
      "Query time: 0.326s\n",
      "Total time: 2.356s\n",
      "Results returned: 3\n",
      "\n",
      "----- Top Result Comparison -----\n",
      "Direct query top result ID: LP-00868-chunk-2\n",
      "Function query top result ID: LP-00868-chunk-2\n",
      "\n",
      "Same top result: True\n"
     ]
    }
   ],
   "source": [
    "# Compare the two approaches with the same query\n",
    "\n",
    "# The query to test\n",
    "comparison_query = \"What are important landmarks in Manhattan?\"\n",
    "print(f\"Query: '{comparison_query}'\")\n",
    "\n",
    "# Approach 1: Direct PineconeDB.query_vectors approach\n",
    "# First generate embedding\n",
    "print(\"\\n----- Approach 1: Direct PineconeDB.query_vectors -----\")\n",
    "start_time = time.time()\n",
    "\n",
    "# Generate embedding\n",
    "emb_start = time.time()\n",
    "query_embedding = embedding_generator.generate_embedding(comparison_query)\n",
    "emb_time = time.time() - emb_start\n",
    "\n",
    "# Execute direct query\n",
    "query_start = time.time()\n",
    "direct_results = pinecone_db.query_vectors(query_vector=query_embedding, top_k=3)\n",
    "query_time = time.time() - query_start\n",
    "\n",
    "# Calculate total time\n",
    "total_direct_time = time.time() - start_time\n",
    "print(f\"Embedding time: {emb_time:.3f}s\")\n",
    "print(f\"Query time: {query_time:.3f}s\")\n",
    "print(f\"Total time: {total_direct_time:.3f}s\")\n",
    "print(f\"Results returned: {len(direct_results)}\")\n",
    "\n",
    "# Approach 2: Using our execute_query function\n",
    "print(\"\\n----- Approach 2: Using execute_query function -----\")\n",
    "func_start_time = time.time()\n",
    "function_results = execute_query(comparison_query, top_k=3)\n",
    "total_function_time = time.time() - func_start_time\n",
    "\n",
    "print(f\"Embedding time: {function_results['metrics']['embedding_time']:.3f}s\")\n",
    "print(f\"Query time: {function_results['metrics']['query_time']:.3f}s\")\n",
    "print(f\"Total time: {function_results['metrics']['total_time']:.3f}s\")\n",
    "print(f\"Results returned: {function_results['metrics']['result_count']}\")\n",
    "\n",
    "# Compare the top result IDs to verify both approaches return the same data\n",
    "print(\"\\n----- Top Result Comparison -----\")\n",
    "if direct_results and function_results['results']:\n",
    "    print(f\"Direct query top result ID: {direct_results[0]['id']}\")\n",
    "    print(f\"Function query top result ID: {function_results['results'][0]['id']}\")\n",
    "\n",
    "    # Check if they're the same\n",
    "    print(f\"\\nSame top result: {direct_results[0]['id'] == function_results['results'][0]['id']}\")\n",
    "else:\n",
    "    print(\"No results to compare\")"
   ]
  },
  {
   "cell_type": "markdown",
   "metadata": {},
   "source": [
    "### When to Use Each Approach\n",
    "\n",
    "**Direct Query with `PineconeDB.query_vectors`:**\n",
    "- When you already have embedding vectors (pre-computed)\n",
    "- When you need custom embedding generation logic\n",
    "- For low-level integration with other systems\n",
    "- When you want complete control over the query process\n",
    "\n",
    "**Using the `execute_query` Function:**\n",
    "- For simplicity and convenience\n",
    "- When you need built-in performance metrics\n",
    "- For consistent formatting of results\n",
    "- When working with text queries rather than vectors\n",
    "\n",
    "Both approaches ultimately use the same underlying `query_vectors` method of the PineconeDB class, but the `execute_query` function provides additional convenience and metrics."
   ]
  },
  {
   "cell_type": "markdown",
   "metadata": {},
   "source": [
    "## Test with sample query"
   ]
  },
  {
   "cell_type": "code",
   "execution_count": 72,
   "metadata": {},
   "outputs": [
    {
     "name": "stdout",
     "output_type": "stream",
     "text": [
      "Executing query: 'What is the Empire State Building?'\n"
     ]
    },
    {
     "name": "stderr",
     "output_type": "stream",
     "text": [
      "INFO:httpx:HTTP Request: POST https://api.openai.com/v1/embeddings \"HTTP/1.1 200 OK\"\n"
     ]
    },
    {
     "name": "stdout",
     "output_type": "stream",
     "text": [
      "Query: 'What are important landmarks in Manhattan?'\n",
      "\n",
      "🔍 Found 3 results (showing 3)\n",
      "⏱️ Total query time: 0.499 seconds\n",
      "--------------------------------------------------------------------------------\n",
      "\n",
      "📌 Result #1 - Score: 0.6683\n",
      "ID: LP-00868-chunk-2\n",
      "\n",
      "Metadata:\n",
      "  Name: Mrs. Amory S. Carhart House (now Lycee Francais De New York)\n",
      "  Borough: Manhattan\n",
      "  Designation_date: 1974-07-23T00:00:00\n",
      "  Neighborhood: Carnegie Hill\n",
      "\n",
      "  Content (text): 5, Borough of Manhattan, as its Landmark Site. \n",
      "-2-\n",
      "\n",
      "  Other metadata:\n",
      "    architect: Horace Trumbauer\n",
      "    chunk_index: 2.0\n",
      "    has_pluto_data: True\n",
      "    landmark_id: LP-00868\n",
      "    location: 3 East 95 Street\n",
      "    processing_date: 2025-05-11\n",
      "    source_type: pdf\n",
      "    style: Beaux-Arts\n",
      "    type: Individual Landmark\n",
      "--------------------------------------------------------------------------------\n",
      "\n",
      "📌 Result #2 - Score: 0.6334\n",
      "ID: LP-00851-chunk-10\n",
      "\n",
      "Metadata:\n",
      "  Name: Central Park\n",
      "  Borough: Manhattan\n",
      "  Designation_date: 1974-04-16T00:00:00\n",
      "  Neighborhood: Central Park\n",
      "\n",
      "  Content (text):  the southern curb line of t~est \n",
      "llOth Street, the southern curb line of Cathedral Parkway, the southeastern \n",
      "curb line of FrederickDouglass Circle, the eastern curb line of Central Park \n",
      "West, the northeastern curb line of Columbus Circle, the nort...\n",
      "\n",
      "  Other metadata:\n",
      "    architect: Frederick Law Olmstead; Calvert Vaux\n",
      "    chunk_index: 10.0\n",
      "    has_pluto_data: True\n",
      "    landmark_id: LP-00851\n",
      "    location: Fifth Avenue To Central Park West, 59Th Street To ...\n",
      "    processing_date: 2025-05-11\n",
      "    source_type: pdf\n",
      "    style: N/A\n",
      "    type: Scenic Landmark\n",
      "--------------------------------------------------------------------------------\n",
      "\n",
      "📌 Result #3 - Score: 0.6172\n",
      "ID: LP-00916-chunk-6\n",
      "\n",
      "Metadata:\n",
      "  Name: City Hall\n",
      "  Borough: Manhattan\n",
      "  Designation_date: 1976-01-27T00:00:00\n",
      "  Neighborhood: Tribeca\n",
      "\n",
      "  Content (text):  and the portion of the .. east-west \n",
      "corridor between the Main Entrance and the Rotunda; Second Floor Interior consist\n",
      "ing of the Rotunda above the second floor, Broadway and City Hall Park, Borough \n",
      "of Manhattan, and designated Tax Map Block 122, L...\n",
      "\n",
      "  Other metadata:\n",
      "    architect: Joseph-François Mangin; John McComb, Jr.\n",
      "    chunk_index: 6.0\n",
      "    has_pluto_data: True\n",
      "    landmark_id: LP-00916\n",
      "    location: City Hall Park\n",
      "    processing_date: 2025-05-11\n",
      "    source_type: pdf\n",
      "    style: 18th century French\n",
      "    type: Interior Landmark\n",
      "--------------------------------------------------------------------------------\n"
     ]
    }
   ],
   "source": [
    "# Test query with detailed results display\n",
    "query = \"What is the Empire State Building?\"\n",
    "print(f\"Executing query: '{query}'\")\n",
    "\n",
    "try:\n",
    "    # Execute the query\n",
    "    result =  execute_query(comparison_query, top_k=3)\n",
    "\n",
    "    # Display detailed results\n",
    "    display_query_results(result)\n",
    "\n",
    "except Exception as e:\n",
    "    print(f\"Error executing query: {e}\")"
   ]
  },
  {
   "cell_type": "markdown",
   "metadata": {},
   "source": []
  },
  {
   "cell_type": "markdown",
   "metadata": {},
   "source": [
    "## 4. Simple Filter Tests\n",
    "\n",
    "Next, let's test basic filtering capabilities."
   ]
  },
  {
   "cell_type": "code",
   "execution_count": 73,
   "metadata": {},
   "outputs": [
    {
     "name": "stdout",
     "output_type": "stream",
     "text": [
      "Testing query: 'What is the Empire State Building?'\n"
     ]
    },
    {
     "name": "stderr",
     "output_type": "stream",
     "text": [
      "INFO:httpx:HTTP Request: POST https://api.openai.com/v1/embeddings \"HTTP/1.1 200 OK\"\n"
     ]
    },
    {
     "name": "stdout",
     "output_type": "stream",
     "text": [
      "\n",
      "✅ Query executed successfully\n",
      "Embedding time: 0.413s\n",
      "Query time: 0.142s\n",
      "Total time: 0.555s\n",
      "Results returned: 5\n"
     ]
    }
   ],
   "source": [
    "# Test with sample query\n",
    "test_query = sample_queries[0]\n",
    "print(f\"Testing query: '{test_query}'\")\n",
    "\n",
    "try:\n",
    "    query_result = execute_query(test_query)\n",
    "    print(\"\\n✅ Query executed successfully\")\n",
    "    print(f\"Embedding time: {query_result['metrics']['embedding_time']:.3f}s\")\n",
    "    print(f\"Query time: {query_result['metrics']['query_time']:.3f}s\")\n",
    "    print(f\"Total time: {query_result['metrics']['total_time']:.3f}s\")\n",
    "    print(f\"Results returned: {query_result['metrics']['result_count']}\")\n",
    "except Exception as e:\n",
    "    print(f\"\\n❌ Error executing query: {e}\")"
   ]
  },
  {
   "cell_type": "code",
   "execution_count": 74,
   "metadata": {},
   "outputs": [
    {
     "name": "stdout",
     "output_type": "stream",
     "text": [
      "Testing query: 'What is the Empire State Building?'\n"
     ]
    },
    {
     "name": "stderr",
     "output_type": "stream",
     "text": [
      "INFO:httpx:HTTP Request: POST https://api.openai.com/v1/embeddings \"HTTP/1.1 200 OK\"\n"
     ]
    },
    {
     "name": "stdout",
     "output_type": "stream",
     "text": [
      "\n",
      "✅ Query executed successfully\n",
      "Embedding time: 0.616s\n",
      "Query time: 0.133s\n",
      "Total time: 0.749s\n",
      "Results returned: 5\n"
     ]
    }
   ],
   "source": [
    "# Test with sample query\n",
    "test_query = sample_queries[0]\n",
    "print(f\"Testing query: '{test_query}'\")\n",
    "\n",
    "try:\n",
    "    query_result = execute_query(test_query)\n",
    "    print(\"\\n✅ Query executed successfully\")\n",
    "    print(f\"Embedding time: {query_result['metrics']['embedding_time']:.3f}s\")\n",
    "    print(f\"Query time: {query_result['metrics']['query_time']:.3f}s\")\n",
    "    print(f\"Total time: {query_result['metrics']['total_time']:.3f}s\")\n",
    "    print(f\"Results returned: {query_result['metrics']['result_count']}\")\n",
    "except Exception as e:\n",
    "    print(f\"\\n❌ Error executing query: {e}\")"
   ]
  },
  {
   "cell_type": "code",
   "execution_count": 75,
   "metadata": {},
   "outputs": [
    {
     "name": "stdout",
     "output_type": "stream",
     "text": [
      "Testing query: 'What is the Empire State Building?'\n"
     ]
    },
    {
     "name": "stderr",
     "output_type": "stream",
     "text": [
      "INFO:httpx:HTTP Request: POST https://api.openai.com/v1/embeddings \"HTTP/1.1 200 OK\"\n"
     ]
    },
    {
     "name": "stdout",
     "output_type": "stream",
     "text": [
      "\n",
      "✅ Query executed successfully\n",
      "Embedding time: 0.260s\n",
      "Query time: 0.105s\n",
      "Total time: 0.365s\n",
      "Results returned: 5\n"
     ]
    }
   ],
   "source": [
    "# Test with sample query\n",
    "test_query = sample_queries[0]\n",
    "print(f\"Testing query: '{test_query}'\")\n",
    "\n",
    "try:\n",
    "    query_result = execute_query(test_query)\n",
    "    print(\"\\n✅ Query executed successfully\")\n",
    "    print(f\"Embedding time: {query_result['metrics']['embedding_time']:.3f}s\")\n",
    "    print(f\"Query time: {query_result['metrics']['query_time']:.3f}s\")\n",
    "    print(f\"Total time: {query_result['metrics']['total_time']:.3f}s\")\n",
    "    print(f\"Results returned: {query_result['metrics']['result_count']}\")\n",
    "except Exception as e:\n",
    "    print(f\"\\n❌ Error executing query: {e}\")"
   ]
  },
  {
   "cell_type": "code",
   "execution_count": 76,
   "metadata": {},
   "outputs": [
    {
     "name": "stderr",
     "output_type": "stream",
     "text": [
      "INFO:httpx:HTTP Request: POST https://api.openai.com/v1/embeddings \"HTTP/1.1 200 OK\"\n"
     ]
    },
    {
     "name": "stdout",
     "output_type": "stream",
     "text": [
      "Query: 'What is the Empire State Building?'\n",
      "Filter: borough = Manhattan\n",
      "Results returned: 5\n",
      "Total time: 0.468s\n"
     ]
    }
   ],
   "source": [
    "# Test with a simple filter\n",
    "try:\n",
    "    filter_dict = {\"borough\": \"Manhattan\"}\n",
    "    filtered_result = execute_query(test_query, filter_dict=filter_dict)\n",
    "\n",
    "    print(f\"Query: '{test_query}'\")\n",
    "    print(\"Filter: borough = Manhattan\")\n",
    "    print(f\"Results returned: {filtered_result['metrics']['result_count']}\")\n",
    "    print(f\"Total time: {filtered_result['metrics']['total_time']:.3f}s\")\n",
    "except Exception as e:\n",
    "    print(f\"Error executing filtered query: {e}\")"
   ]
  },
  {
   "cell_type": "code",
   "execution_count": 77,
   "metadata": {},
   "outputs": [
    {
     "name": "stdout",
     "output_type": "stream",
     "text": [
      "Testing query: 'Tell me about the Brooklyn Bridge'\n"
     ]
    },
    {
     "name": "stderr",
     "output_type": "stream",
     "text": [
      "INFO:httpx:HTTP Request: POST https://api.openai.com/v1/embeddings \"HTTP/1.1 200 OK\"\n"
     ]
    },
    {
     "name": "stdout",
     "output_type": "stream",
     "text": [
      "\n",
      "✅ Query executed successfully\n",
      "Embedding time: 0.448s\n",
      "Query time: 0.166s\n",
      "Total time: 0.614s\n",
      "Results returned: 5\n",
      "\n",
      "Top result score: 0.7182\n",
      "Name: Brooklyn Bridge\n",
      "Borough: NA\n"
     ]
    }
   ],
   "source": [
    "# Let's try a different query about Brooklyn Bridge\n",
    "brooklyn_query = sample_queries[1]  # \"Tell me about the Brooklyn Bridge\"\n",
    "print(f\"Testing query: '{brooklyn_query}'\")\n",
    "\n",
    "try:\n",
    "    brooklyn_result = execute_query(brooklyn_query)\n",
    "    print(\"\\n✅ Query executed successfully\")\n",
    "    print(f\"Embedding time: {brooklyn_result['metrics']['embedding_time']:.3f}s\")\n",
    "    print(f\"Query time: {brooklyn_result['metrics']['query_time']:.3f}s\")\n",
    "    print(f\"Total time: {brooklyn_result['metrics']['total_time']:.3f}s\")\n",
    "    print(f\"Results returned: {brooklyn_result['metrics']['result_count']}\")\n",
    "\n",
    "    # Display the first result\n",
    "    if brooklyn_result[\"results\"]:\n",
    "        first_result = brooklyn_result[\"results\"][0]\n",
    "        print(f\"\\nTop result score: {first_result['score']:.4f}\")\n",
    "        metadata = first_result.get(\"metadata\", {})\n",
    "        if metadata and \"name\" in metadata:\n",
    "            print(f\"Name: {metadata['name']}\")\n",
    "        if metadata and \"borough\" in metadata:\n",
    "            print(f\"Borough: {metadata['borough']}\")\n",
    "except Exception as e:\n",
    "    print(f\"\\n❌ Error executing query: {e}\")"
   ]
  },
  {
   "cell_type": "code",
   "execution_count": 78,
   "metadata": {},
   "outputs": [
    {
     "name": "stdout",
     "output_type": "stream",
     "text": [
      "\n",
      "Result #1 - Score: 0.7182\n",
      "Name: Brooklyn Bridge\n",
      "Borough: NA\n",
      "Designation_date: 1967-08-24T00:00:00\n",
      "------------------------------------------------------------\n",
      "\n",
      "Result #2 - Score: 0.7103\n",
      "Name: Fulton Ferry Historic District\n",
      "Borough: Brooklyn\n",
      "Designation_date: 1977-06-28T00:00:00\n",
      "------------------------------------------------------------\n",
      "\n",
      "Result #3 - Score: 0.7009\n",
      "Name: Brooklyn Bridge\n",
      "Borough: NA\n",
      "Designation_date: 1967-08-24T00:00:00\n",
      "------------------------------------------------------------\n"
     ]
    }
   ],
   "source": [
    "# Let's examine the text content of the top results for the Brooklyn Bridge query\n",
    "for i, result in enumerate(brooklyn_result[\"results\"][:3]):\n",
    "    print(f\"\\nResult #{i+1} - Score: {result['score']:.4f}\")\n",
    "\n",
    "    metadata = result.get(\"metadata\", {})\n",
    "\n",
    "    # Print basic information\n",
    "    for key in [\"name\", \"borough\", \"landmark_type\", \"designation_date\"]:\n",
    "        if key in metadata:\n",
    "            print(f\"{key.capitalize()}: {metadata[key]}\")\n",
    "\n",
    "    # Print a snippet of text content if available\n",
    "    for content_key in [\"text_chunk\", \"description\"]:\n",
    "        if content_key in metadata:\n",
    "            content = metadata[content_key]\n",
    "            snippet = content[:200] + \"...\" if len(content) > 200 else content\n",
    "            print(f\"\\nSnippet: {snippet}\")\n",
    "            break\n",
    "\n",
    "    print(\"---\" * 20)"
   ]
  },
  {
   "cell_type": "code",
   "execution_count": 79,
   "metadata": {},
   "outputs": [
    {
     "data": {
      "image/png": "[encoded data removed]",
      "text/plain": [
       "<Figure size 1200x600 with 1 Axes>"
      ]
     },
     "metadata": {},
     "output_type": "display_data"
    }
   ],
   "source": [
    "# Visualize similarity scores for the Brooklyn Bridge query\n",
    "scores = []\n",
    "names = []\n",
    "\n",
    "for result in brooklyn_result[\"results\"]:\n",
    "    scores.append(result[\"score\"])\n",
    "    metadata = result.get(\"metadata\", {})\n",
    "    name = metadata.get(\"name\", result[\"id\"])\n",
    "    names.append(name)\n",
    "\n",
    "# Create a horizontal bar chart\n",
    "plt.figure(figsize=(12, 6))\n",
    "bars = plt.barh(names, scores, color=\"skyblue\")\n",
    "\n",
    "# Add data labels\n",
    "for bar in bars:\n",
    "    width = bar.get_width()\n",
    "    plt.text(\n",
    "        width + 0.01,\n",
    "        bar.get_y() + bar.get_height() / 2,\n",
    "        f\"{width:.4f}\",\n",
    "        va=\"center\",\n",
    "        fontweight=\"bold\",\n",
    "    )\n",
    "\n",
    "# Set chart properties\n",
    "plt.title(f'Similarity Scores for Query: \"{brooklyn_query}\"', fontsize=14)\n",
    "plt.xlabel(\"Similarity Score\")\n",
    "plt.ylabel(\"Result Name\")\n",
    "plt.xlim(0, 1.0)\n",
    "plt.grid(axis=\"x\", linestyle=\"--\", alpha=0.7)\n",
    "plt.tight_layout()\n",
    "plt.show()"
   ]
  },
  {
   "cell_type": "markdown",
   "metadata": {},
   "source": [
    "## 5. Examine Query Results\n",
    "\n",
    "Let's examine the results of our queries in more detail."
   ]
  },
  {
   "cell_type": "code",
   "execution_count": 80,
   "metadata": {},
   "outputs": [
    {
     "name": "stdout",
     "output_type": "stream",
     "text": [
      "Query: 'What is the Empire State Building?'\n",
      "\n",
      "Top 5 results:\n",
      "\n",
      "1. Score: 0.6675\n",
      "   ID: LP-02001-chunk-0\n",
      "   Name: Empire State Building\n",
      "   Borough: Manhattan\n",
      "   Designation Date: 1981-05-19T00:00:00\n",
      "\n",
      "2. Score: 0.6521\n",
      "   ID: LP-02000-chunk-13\n",
      "   Name: Empire State Building\n",
      "   Borough: Manhattan\n",
      "   Designation Date: 1981-05-19T00:00:00\n",
      "\n",
      "3. Score: 0.6494\n",
      "   ID: LP-02000-chunk-17\n",
      "   Name: Empire State Building\n",
      "   Borough: Manhattan\n",
      "   Designation Date: 1981-05-19T00:00:00\n",
      "\n",
      "4. Score: 0.6399\n",
      "   ID: LP-02000-chunk-0\n",
      "   Name: Empire State Building\n",
      "   Borough: Manhattan\n",
      "   Designation Date: 1981-05-19T00:00:00\n",
      "\n",
      "5. Score: 0.6348\n",
      "   ID: wiki-Empire_Building_(Manhattan)-LP-01933-chunk-0\n",
      "   Name: Empire Building\n",
      "   Borough: Manhattan\n",
      "   Designation Date: 1996-06-25T00:00:00\n"
     ]
    }
   ],
   "source": [
    "# Let's display the results from our last query in a more readable format\n",
    "results = filtered_result[\"results\"]\n",
    "\n",
    "print(f\"Query: '{filtered_result['query']}'\\n\")\n",
    "print(\"Top 5 results:\")\n",
    "\n",
    "for i, match in enumerate(results):\n",
    "    print(f\"\\n{i+1}. Score: {match['score']:.4f}\")\n",
    "\n",
    "    # Extract metadata\n",
    "    metadata = match.get(\"metadata\", {})\n",
    "\n",
    "    # Display key metadata fields\n",
    "    print(f\"   ID: {match['id']}\")\n",
    "    if \"name\" in metadata:\n",
    "        print(f\"   Name: {metadata['name']}\")\n",
    "    if \"borough\" in metadata:\n",
    "        print(f\"   Borough: {metadata['borough']}\")\n",
    "    if \"landmark_type\" in metadata:\n",
    "        print(f\"   Type: {metadata['landmark_type']}\")\n",
    "    if \"designation_date\" in metadata:\n",
    "        print(f\"   Designation Date: {metadata['designation_date']}\")\n",
    "\n",
    "    # Display a snippet of the content if available\n",
    "    if \"text_chunk\" in metadata:\n",
    "        snippet = (\n",
    "            metadata[\"text_chunk\"][:150] + \"...\"\n",
    "            if len(metadata[\"text_chunk\"]) > 150\n",
    "            else metadata[\"text_chunk\"]\n",
    "        )\n",
    "        print(f\"   Snippet: {snippet}\")"
   ]
  },
  {
   "cell_type": "code",
   "execution_count": 81,
   "metadata": {},
   "outputs": [
    {
     "data": {
      "image/png": "[encoded data removed]",
      "text/plain": [
       "<Figure size 1200x600 with 1 Axes>"
      ]
     },
     "metadata": {},
     "output_type": "display_data"
    }
   ],
   "source": [
    "# Visualize the similarity scores\n",
    "\n",
    "\n",
    "def plot_similarity_scores(results, query_text):\n",
    "    # Extract scores and names\n",
    "    scores = [match[\"score\"] for match in results]\n",
    "    names = [match.get(\"metadata\", {}).get(\"name\", match[\"id\"]) for match in results]\n",
    "\n",
    "    # Create a horizontal bar chart\n",
    "    plt.figure(figsize=(12, 6))\n",
    "    bars = plt.barh(names, scores, color=\"skyblue\")\n",
    "\n",
    "    # Add data labels\n",
    "    for bar in bars:\n",
    "        width = bar.get_width()\n",
    "        plt.text(\n",
    "            width + 0.01,\n",
    "            bar.get_y() + bar.get_height() / 2,\n",
    "            f\"{width:.4f}\",\n",
    "            va=\"center\",\n",
    "            fontweight=\"bold\",\n",
    "        )\n",
    "\n",
    "    # Set chart properties\n",
    "    plt.title(f'Similarity Scores for Query: \"{query_text}\"', fontsize=14)\n",
    "    plt.xlabel(\"Similarity Score\")\n",
    "    plt.ylabel(\"Document\")\n",
    "    plt.xlim(0, 1.0)\n",
    "    plt.grid(axis=\"x\", linestyle=\"--\", alpha=0.7)\n",
    "    plt.tight_layout()\n",
    "\n",
    "    return plt\n",
    "\n",
    "\n",
    "# Plot the results\n",
    "plot = plot_similarity_scores(filtered_result[\"results\"], filtered_result[\"query\"])\n",
    "plot.show()"
   ]
  },
  {
   "cell_type": "markdown",
   "metadata": {},
   "source": [
    "## 6. Advanced Filtering\n",
    "\n",
    "Let's test more advanced filtering capabilities by combining multiple criteria."
   ]
  },
  {
   "cell_type": "code",
   "execution_count": null,
   "metadata": {},
   "outputs": [],
   "source": [
    "# Test with multiple filter conditions\n",
    "query_text = \"What are the historic districts?\"\n",
    "filter_conditions = {\"borough\": \"Brooklyn\", \"landmark_type\": \"Historic District\"}\n",
    "\n",
    "print(f\"Query: '{query_text}'\")\n",
    "print(f\"Filters: {filter_conditions}\")\n",
    "\n",
    "try:\n",
    "    multi_filter_result = execute_query(\n",
    "        query_text, filter_dict=filter_conditions, top_k=10\n",
    "    )\n",
    "    print(\"\\n✅ Query executed successfully\")\n",
    "    print(f\"Total time: {multi_filter_result['metrics']['total_time']:.3f}s\")\n",
    "    print(f\"Results returned: {multi_filter_result['metrics']['result_count']}\")\n",
    "\n",
    "    # Print the names of the returned landmarks\n",
    "    if multi_filter_result[\"results\"]:\n",
    "        print(\"\\nReturned Brooklyn Historic Districts:\")\n",
    "        for i, result in enumerate(multi_filter_result[\"results\"]):\n",
    "            name = result.get(\"metadata\", {}).get(\"name\", \"Unknown\")\n",
    "            print(f\"{i+1}. {name} (Score: {result['score']:.4f})\")\n",
    "    else:\n",
    "        print(\"\\nNo results found matching the filters\")\n",
    "\n",
    "except Exception as e:\n",
    "    print(f\"\\n❌ Error executing query: {e}\")"
   ]
  },
  {
   "cell_type": "code",
   "execution_count": null,
   "metadata": {},
   "outputs": [],
   "source": [
    "# Let's try with just the landmark_type filter\n",
    "query_text = \"What are the historic districts?\"\n",
    "filter_conditions = {\"landmark_type\": \"Historic District\"}\n",
    "\n",
    "print(f\"Query: '{query_text}'\")\n",
    "print(f\"Filters: {filter_conditions}\")\n",
    "\n",
    "try:\n",
    "    filter_result = execute_query(query_text, filter_dict=filter_conditions, top_k=5)\n",
    "    print(f\"\\n✅ Query executed successfully\")\n",
    "    print(f\"Total time: {filter_result['metrics']['total_time']:.3f}s\")\n",
    "    print(f\"Results returned: {filter_result['metrics']['result_count']}\")\n",
    "\n",
    "    # Print the names and boroughs of the returned landmarks\n",
    "    if filter_result[\"results\"]:\n",
    "        print(\"\\nReturned Historic Districts:\")\n",
    "        for i, result in enumerate(filter_result[\"results\"]):\n",
    "            metadata = result.get(\"metadata\", {})\n",
    "            name = metadata.get(\"name\", \"Unknown\")\n",
    "            borough = metadata.get(\"borough\", \"Unknown\")\n",
    "            print(f\"{i+1}. {name} (Borough: {borough}, Score: {result['score']:.4f})\")\n",
    "    else:\n",
    "        print(\"\\nNo results found matching the filters\")\n",
    "\n",
    "except Exception as e:\n",
    "    print(f\"\\n❌ Error executing query: {e}\")"
   ]
  },
  {
   "cell_type": "code",
   "execution_count": 59,
   "metadata": {},
   "outputs": [
    {
     "name": "stdout",
     "output_type": "stream",
     "text": [
      "Executing filtered query: 'Historic buildings' with filters: {'borough': 'Brooklyn'}\n",
      "\n"
     ]
    },
    {
     "name": "stderr",
     "output_type": "stream",
     "text": [
      "INFO:httpx:HTTP Request: POST https://api.openai.com/v1/embeddings \"HTTP/1.1 200 OK\"\n"
     ]
    },
    {
     "name": "stdout",
     "output_type": "stream",
     "text": [
      "Query: 'Historic buildings'\n",
      "\n",
      "🔍 Found 3 results (showing 3)\n",
      "⏱️ Total query time: 0.661 seconds\n",
      "--------------------------------------------------------------------------------\n",
      "\n",
      "📌 Result #1 - Score: 0.5279\n",
      "ID: LP-02443-chunk-20\n",
      "\n",
      "Metadata:\n",
      "  Name: Park Slope Historic District Extension\n",
      "  Borough: Brooklyn\n",
      "  Designation_date: 2012-04-12T00:00:00\n",
      "  Neighborhood: Park Slope\n",
      "\n",
      "  Content (text):  with carved surround s, paired fourth-story windows \n",
      "crowned by cartouches, cornices with modillions. These buildings were named after \n",
      "characters in a popular 1884 historical novel Ramona, written by Helen Hunt Jackson. \n",
      " \n",
      " \n",
      " \n",
      "16\n",
      "\n",
      "Industrial Buildi...\n",
      "\n",
      "  Other metadata:\n",
      "    architect: Unknown\n",
      "    chunk_index: 20.0\n",
      "    has_pluto_data: True\n",
      "    landmark_id: LP-02443\n",
      "    processing_date: 2025-05-11\n",
      "    source_type: pdf\n",
      "    style: N/A\n",
      "    type: Historic District\n",
      "--------------------------------------------------------------------------------\n",
      "\n",
      "📌 Result #2 - Score: 0.5063\n",
      "ID: LP-00099-chunk-1\n",
      "\n",
      "Metadata:\n",
      "  Name: Brooklyn Heights Historic District\n",
      "  Borough: Brooklyn\n",
      "  Designation_date: 1965-11-23T00:00:00\n",
      "  Neighborhood: Brooklyn Heights\n",
      "\n",
      "  Content (text): forming in ; \n",
      "this respect. \n",
      "The traditional boundaries of Brook~ Heights have been on the west, the \n",
      "bluff facing the East River; on the south, the wide and heavily-travelled Atlantic \n",
      "Avenue and on the east and north, Court Street and Fulton Street...\n",
      "\n",
      "  Other metadata:\n",
      "    architect: Unknown\n",
      "    chunk_index: 1.0\n",
      "    has_pluto_data: True\n",
      "    landmark_id: LP-00099\n",
      "    processing_date: 2025-05-11\n",
      "    source_type: pdf\n",
      "    style: N/A\n",
      "    type: Historic District\n",
      "--------------------------------------------------------------------------------\n",
      "\n",
      "📌 Result #3 - Score: 0.5025\n",
      "ID: LP-00767-chunk-20\n",
      "\n",
      "Metadata:\n",
      "  Name: Boerum Hill Historic District\n",
      "  Borough: Brooklyn\n",
      "  Designation_date: 1973-11-20T00:00:00\n",
      "  Neighborhood: Boerum Hill\n",
      "\n",
      "  Content (text):  beyond the \n",
      "row to the west and is aligned with the adjacent houses, Nos. 183-185. \n",
      "The group of three brick houses at Nos. 175-179 which separate the pair (Nos. \n",
      "173 and 181) is unified by its striking details. The segmental-arched doorways are \n",
      "su...\n",
      "\n",
      "  Other metadata:\n",
      "    architect: Unknown\n",
      "    chunk_index: 20.0\n",
      "    has_pluto_data: True\n",
      "    landmark_id: LP-00767\n",
      "    processing_date: 2025-05-11\n",
      "    source_type: pdf\n",
      "    style: N/A\n",
      "    type: Historic District\n",
      "--------------------------------------------------------------------------------\n"
     ]
    }
   ],
   "source": [
    "# Now let's display the detailed results of the filter query using our display function\n",
    "# We'll try with the borough filter since it worked in previous tests\n",
    "filter_query = \"Historic buildings\"\n",
    "filter_conditions = {\"borough\": \"Brooklyn\"}\n",
    "\n",
    "print(f\"Executing filtered query: '{filter_query}' with filters: {filter_conditions}\\n\")\n",
    "\n",
    "try:\n",
    "    # Execute the filtered query\n",
    "    brooklyn_result = execute_query(filter_query, filter_dict=filter_conditions, top_k=3)\n",
    "\n",
    "    # Display detailed results using our function\n",
    "    display_query_results(brooklyn_result)\n",
    "\n",
    "except Exception as e:\n",
    "    print(f\"Error executing query: {e}\")"
   ]
  },
  {
   "cell_type": "markdown",
   "metadata": {},
   "source": [
    "## 7. Exploring Metadata\n",
    "\n",
    "To better understand the database, let's explore what metadata is available by performing some simple queries without filters."
   ]
  },
  {
   "cell_type": "code",
   "execution_count": null,
   "metadata": {},
   "outputs": [],
   "source": [
    "# Perform a general query to explore available metadata\n",
    "general_query = \"New York City landmarks\"\n",
    "print(f\"Query: '{general_query}'\")\n",
    "\n",
    "try:\n",
    "    general_result = execute_query(general_query, top_k=10)\n",
    "    print(f\"\\n✅ Query executed successfully\")\n",
    "    print(f\"Results returned: {general_result['metrics']['result_count']}\")\n",
    "\n",
    "    # Extract and display available metadata fields\n",
    "    print(\"\\nExploring metadata in results:\")\n",
    "\n",
    "    metadata_fields = set()\n",
    "    landmark_types = set()\n",
    "    boroughs = set()\n",
    "\n",
    "    for result in general_result[\"results\"]:\n",
    "        metadata = result.get(\"metadata\", {})\n",
    "        metadata_fields.update(metadata.keys())\n",
    "\n",
    "        if \"landmark_type\" in metadata:\n",
    "            landmark_types.add(metadata[\"landmark_type\"])\n",
    "\n",
    "        if \"borough\" in metadata:\n",
    "            boroughs.add(metadata[\"borough\"])\n",
    "\n",
    "    print(f\"\\nAvailable metadata fields: {sorted(list(metadata_fields))}\")\n",
    "    print(f\"\\nUnique landmark types: {sorted(list(landmark_types))}\")\n",
    "    print(f\"\\nUnique boroughs: {sorted(list(boroughs))}\")\n",
    "\n",
    "except Exception as e:\n",
    "    print(f\"\\n❌ Error executing query: {e}\")"
   ]
  },
  {
   "cell_type": "code",
   "execution_count": null,
   "metadata": {},
   "outputs": [],
   "source": [
    "# Let's try filtering by borough\n",
    "query_text = \"Historic buildings\"\n",
    "filter_conditions = {\"borough\": \"Brooklyn\"}\n",
    "\n",
    "print(f\"Query: '{query_text}'\")\n",
    "print(f\"Filters: {filter_conditions}\")\n",
    "\n",
    "try:\n",
    "    borough_filter_result = execute_query(\n",
    "        query_text, filter_dict=filter_conditions, top_k=5\n",
    "    )\n",
    "    print(f\"\\n✅ Query executed successfully\")\n",
    "    print(f\"Total time: {borough_filter_result['metrics']['total_time']:.3f}s\")\n",
    "    print(f\"Results returned: {borough_filter_result['metrics']['result_count']}\")\n",
    "\n",
    "    # Print the names of the returned landmarks\n",
    "    if borough_filter_result[\"results\"]:\n",
    "        print(\"\\nReturned Brooklyn landmarks:\")\n",
    "        for i, result in enumerate(borough_filter_result[\"results\"]):\n",
    "            metadata = result.get(\"metadata\", {})\n",
    "            name = metadata.get(\"name\", \"Unknown\")\n",
    "            print(f\"{i+1}. {name} (Score: {result['score']:.4f})\")\n",
    "\n",
    "            # Print additional metadata if available\n",
    "            for key in [\"style\", \"year_built\", \"neighborhood\"]:\n",
    "                if key in metadata and metadata[key]:\n",
    "                    print(f\"   {key.capitalize()}: {metadata[key]}\")\n",
    "    else:\n",
    "        print(\"\\nNo results found matching the filters\")\n",
    "\n",
    "except Exception as e:\n",
    "    print(f\"\\n❌ Error executing query: {e}\")"
   ]
  },
  {
   "cell_type": "markdown",
   "metadata": {},
   "source": [
    "## 8. Summary and Conclusions\n",
    "\n",
    "In this notebook, we successfully tested the NYC Landmarks Vector Database's query capabilities. Here's what we accomplished:\n",
    "\n",
    "1. **Basic Vector Search**: Successfully performed semantic search on NYC landmark data\n",
    "2. **Filtering**: Demonstrated the ability to filter by borough and other metadata fields\n",
    "3. **Performance**: Tracked query times, with most queries returning in under 1 second\n",
    "4. **Metadata Exploration**: Discovered the structure and available fields in the database\n",
    "\n",
    "### Next Steps\n",
    "\n",
    "Future work could include:\n",
    "\n",
    "1. More advanced filtering combinations\n",
    "2. Geographic visualization of search results on a map\n",
    "3. Implementing relevance feedback to improve search results\n",
    "4. Expansion of the API to support more complex queries"
   ]
  }
 ],
 "metadata": {
  "kernelspec": {
   "display_name": "Python 3",
   "language": "python",
   "name": "python3"
  },
  "language_info": {
   "codemirror_mode": {
    "name": "ipython",
    "version": 3
   },
   "file_extension": ".py",
   "mimetype": "text/x-python",
   "name": "python",
   "nbconvert_exporter": "python",
   "pygments_lexer": "ipython3",
   "version": "3.12.10"
  }
 },
 "nbformat": 4,
 "nbformat_minor": 4
}
